{
 "cells": [
  {
   "cell_type": "markdown",
   "metadata": {},
   "source": [
    "## Homework 1 - Python Practice (Data Structures, Spring 2021)\n",
    "\n",
    "### Name: 林天佑\n",
    "### Student ID Number: 108820003\n",
    "\n",
    "### Problem 1\n",
    "Write a short Python function `sumevensquares()` that takes a positive integer $n$ and returns the sum of the squares of all the even positive integers smaller than $n$. Furthermore, please give a single command that computes the same sum in another Python function `sumevensquares_simple()`, relying on Python's comprehension syntax and the built-in sum function."
   ]
  },
  {
   "cell_type": "code",
   "execution_count": 1,
   "metadata": {},
   "outputs": [
    {
     "name": "stdout",
     "output_type": "stream",
     "text": [
      "4\n",
      "220\n",
      "0\n",
      "56\n",
      "0\n",
      "0: 0\n",
      "1: 0\n",
      "2: 0\n",
      "3: 4\n",
      "4: 4\n",
      "5: 20\n",
      "6: 20\n",
      "7: 56\n",
      "8: 56\n",
      "9: 120\n",
      "\n",
      "4\n",
      "220\n",
      "0\n",
      "56\n",
      "0\n",
      "0: 0\n",
      "1: 0\n",
      "2: 0\n",
      "3: 4\n",
      "4: 4\n",
      "5: 20\n",
      "6: 20\n",
      "7: 56\n",
      "8: 56\n",
      "9: 120\n"
     ]
    }
   ],
   "source": [
    "def sum_even_squares(n: int) -> int:\n",
    "    result = int()\n",
    "    while n > 0:\n",
    "        n -= 1\n",
    "        if not n % 2:\n",
    "            result += n ** 2\n",
    "    return result\n",
    "\n",
    "def sum_even_squares_simple(n: int) -> int:\n",
    "    return sum([x ** 2 for x in range(n - (1 if n % 2 else 2), 0, -2)])\n",
    "\n",
    "print (sum_even_squares(3))  #want to add up 2*2\n",
    "print (sum_even_squares(11)) # want to add up 2*2, 4*4, etc.\n",
    "print (sum_even_squares(0))\n",
    "print (sum_even_squares(7))\n",
    "print (sum_even_squares(-5))\n",
    "for x in range (10):\n",
    "    print (f'{x}: {sum_even_squares(x)}')\n",
    "\n",
    "print()\n",
    "\n",
    "print (sum_even_squares_simple(3))  #want to add up 2*2\n",
    "print (sum_even_squares_simple(11)) # want to add up 2*2, 4*4, etc.\n",
    "print (sum_even_squares_simple(0))\n",
    "print (sum_even_squares_simple(7))\n",
    "print (sum_even_squares_simple(-5))\n",
    "for x in range (10):\n",
    "    print (f'{x}: {sum_even_squares_simple(x)}')"
   ]
  },
  {
   "cell_type": "markdown",
   "metadata": {},
   "source": [
    "### Problem 2\n",
    "Given a sequence of integer values, determines if there is a distinct pair of numbers in the sequence whose product is odd.\n",
    "Please provide two Python functions, `oddpair_bf()` and `oddpair_linear()` for this problem. The function will take the given sequence of integers as a list. The `oddpair_bf()` function uses a Brute-force approach and check the possible pairs sequestially. When there is pair whose product is odd, it returns `True`; otherwise, it reports `False`. The second one, `oddpair_linear()`, uses a linear-scan approach and will visit each element once. Pleace have a way to determine this with a linear-scan. "
   ]
  },
  {
   "cell_type": "code",
   "execution_count": 2,
   "metadata": {},
   "outputs": [
    {
     "name": "stdout",
     "output_type": "stream",
     "text": [
      "Integer sequence [1, 2, 3, 4, 5, 6, 7, 8, 9, 10]\n",
      "Brute-force:  True\n",
      "Linear Scan:  True\n",
      "Integer sequence [2, 4, 6, 8]\n",
      "Brute-force:  False\n",
      "Linear Scan:  False\n",
      "Integer sequence [2, 3, 4, 6, 8, 10]\n",
      "Brute-force:  False\n",
      "Linear Scan:  False\n"
     ]
    }
   ],
   "source": [
    "# Brute-force approach - traditional way\n",
    "def odd_pair_bf(nums: [int]) -> bool:\n",
    "    for i, m in enumerate(nums):\n",
    "        for j, n in enumerate(nums[i + 1:]):\n",
    "            if m * n % 2:\n",
    "                return True\n",
    "    return False\n",
    "\n",
    "# Linear scan - Any two odd numbers will produce an odd product.  O(n)\n",
    "def odd_pair_linear(nums, t=0) -> bool:\n",
    "    for _, num in enumerate(nums):\n",
    "        if num % 2:\n",
    "            t += 1\n",
    "        if t > 1:\n",
    "            return True\n",
    "    return False\n",
    "\n",
    "\n",
    "data0 = [1,2,3,4,5,6,7,8,9,10]\n",
    "data1 = [2,4,6,8]\n",
    "data2 = [2,3,4,6,8,10]\n",
    "    \n",
    "print('Integer sequence', data0)\n",
    "print('Brute-force: ', odd_pair_bf(data0))\n",
    "print('Linear Scan: ', odd_pair_linear(data0))\n",
    "print('Integer sequence', data1)\n",
    "print('Brute-force: ', odd_pair_bf(data1))\n",
    "print('Linear Scan: ', odd_pair_linear(data1))\n",
    "print('Integer sequence', data2)\n",
    "print('Brute-force: ', odd_pair_bf(data2))\n",
    "print('Linear Scan: ', odd_pair_linear(data2))"
   ]
  },
  {
   "cell_type": "markdown",
   "metadata": {},
   "source": [
    "### Problem 3\n",
    "Demonstrate how to use Python’s `list` comprehension syntax to produce the list \n",
    "`[0, 2, 6, 12, 20, 30, 42, 56, 72, 90]`. Please use a `generator` to create an iterator and then make the resulting list(an iterable)."
   ]
  },
  {
   "cell_type": "code",
   "execution_count": 3,
   "metadata": {},
   "outputs": [
    {
     "name": "stdout",
     "output_type": "stream",
     "text": [
      "[0, 2, 6, 12, 20, 30, 42, 56, 72, 90]\n"
     ]
    }
   ],
   "source": [
    "def list_increasing_by_two_folds() -> [int]:\n",
    "    seed = 0\n",
    "    gap = 0\n",
    "    while True:\n",
    "        seed += gap\n",
    "        gap += 2\n",
    "        yield seed\n",
    "        \n",
    "gen = list_increasing_by_two_folds()\n",
    "print([next(gen) for _ in range(10)])\n"
   ]
  },
  {
   "cell_type": "markdown",
   "metadata": {},
   "source": [
    "### Problem 4\n",
    "Write a Python class named `Triangle` constructed by three sides $a$, $b$, $c$ with two methods: `area()` and `perimeter()`, which compute the area and perimeter respectively. For this problem, we simply use a list to store the three sides."
   ]
  },
  {
   "cell_type": "code",
   "execution_count": 4,
   "metadata": {},
   "outputs": [
    {
     "name": "stdout",
     "output_type": "stream",
     "text": [
      "Please give the sides of the triangle and separate them by spaces:\n"
     ]
    },
    {
     "ename": "ValueError",
     "evalue": "not enough values to unpack (expected 3, got 1)",
     "output_type": "error",
     "traceback": [
      "\u001B[0;31m---------------------------------------------------------------------------\u001B[0m",
      "\u001B[0;31mValueError\u001B[0m                                Traceback (most recent call last)",
      "\u001B[0;32m<ipython-input-4-04276aa50da2>\u001B[0m in \u001B[0;36m<module>\u001B[0;34m\u001B[0m\n\u001B[1;32m     17\u001B[0m \u001B[0mprovided_sides\u001B[0m \u001B[0;34m=\u001B[0m \u001B[0mlist\u001B[0m\u001B[0;34m(\u001B[0m\u001B[0mmap\u001B[0m\u001B[0;34m(\u001B[0m\u001B[0mfloat\u001B[0m\u001B[0;34m,\u001B[0m \u001B[0minput\u001B[0m\u001B[0;34m(\u001B[0m\u001B[0;34m)\u001B[0m\u001B[0;34m.\u001B[0m\u001B[0msplit\u001B[0m\u001B[0;34m(\u001B[0m\u001B[0;34m)\u001B[0m\u001B[0;34m)\u001B[0m\u001B[0;34m)\u001B[0m\u001B[0;34m\u001B[0m\u001B[0;34m\u001B[0m\u001B[0m\n\u001B[1;32m     18\u001B[0m \u001B[0mtriangle\u001B[0m \u001B[0;34m=\u001B[0m \u001B[0mTriangle\u001B[0m\u001B[0;34m(\u001B[0m\u001B[0mprovided_sides\u001B[0m\u001B[0;34m)\u001B[0m\u001B[0;34m\u001B[0m\u001B[0;34m\u001B[0m\u001B[0m\n\u001B[0;32m---> 19\u001B[0;31m \u001B[0mprint\u001B[0m\u001B[0;34m(\u001B[0m\u001B[0;34m'The area and perimeter of the input triangle are'\u001B[0m\u001B[0;34m,\u001B[0m \u001B[0mtriangle\u001B[0m\u001B[0;34m.\u001B[0m\u001B[0marea\u001B[0m\u001B[0;34m,\u001B[0m \u001B[0;34m'and'\u001B[0m\u001B[0;34m,\u001B[0m \u001B[0mtriangle\u001B[0m\u001B[0;34m.\u001B[0m\u001B[0mperimeter\u001B[0m \u001B[0;34m)\u001B[0m\u001B[0;34m\u001B[0m\u001B[0;34m\u001B[0m\u001B[0m\n\u001B[0m\u001B[1;32m     20\u001B[0m \u001B[0;34m\u001B[0m\u001B[0m\n",
      "\u001B[0;32m<ipython-input-4-04276aa50da2>\u001B[0m in \u001B[0;36marea\u001B[0;34m(self)\u001B[0m\n\u001B[1;32m     10\u001B[0m     \u001B[0;32mdef\u001B[0m \u001B[0marea\u001B[0m\u001B[0;34m(\u001B[0m\u001B[0mself\u001B[0m\u001B[0;34m)\u001B[0m \u001B[0;34m->\u001B[0m \u001B[0mfloat\u001B[0m\u001B[0;34m:\u001B[0m\u001B[0;34m\u001B[0m\u001B[0;34m\u001B[0m\u001B[0m\n\u001B[1;32m     11\u001B[0m         \u001B[0ms\u001B[0m \u001B[0;34m=\u001B[0m \u001B[0mself\u001B[0m\u001B[0;34m.\u001B[0m\u001B[0mperimeter\u001B[0m \u001B[0;34m*\u001B[0m \u001B[0;36m0.5\u001B[0m\u001B[0;34m\u001B[0m\u001B[0;34m\u001B[0m\u001B[0m\n\u001B[0;32m---> 12\u001B[0;31m         \u001B[0ma\u001B[0m\u001B[0;34m,\u001B[0m \u001B[0mb\u001B[0m\u001B[0;34m,\u001B[0m \u001B[0mc\u001B[0m \u001B[0;34m=\u001B[0m \u001B[0mself\u001B[0m\u001B[0;34m.\u001B[0m\u001B[0m_sides\u001B[0m\u001B[0;34m\u001B[0m\u001B[0;34m\u001B[0m\u001B[0m\n\u001B[0m\u001B[1;32m     13\u001B[0m         \u001B[0;32mreturn\u001B[0m \u001B[0;34m(\u001B[0m\u001B[0ms\u001B[0m \u001B[0;34m*\u001B[0m \u001B[0;34m(\u001B[0m\u001B[0ms\u001B[0m \u001B[0;34m-\u001B[0m \u001B[0ma\u001B[0m\u001B[0;34m)\u001B[0m \u001B[0;34m*\u001B[0m \u001B[0;34m(\u001B[0m\u001B[0ms\u001B[0m \u001B[0;34m-\u001B[0m \u001B[0mb\u001B[0m\u001B[0;34m)\u001B[0m \u001B[0;34m*\u001B[0m \u001B[0;34m(\u001B[0m\u001B[0ms\u001B[0m \u001B[0;34m-\u001B[0m \u001B[0mc\u001B[0m\u001B[0;34m)\u001B[0m\u001B[0;34m)\u001B[0m \u001B[0;34m**\u001B[0m \u001B[0;36m0.5\u001B[0m\u001B[0;34m\u001B[0m\u001B[0;34m\u001B[0m\u001B[0m\n\u001B[1;32m     14\u001B[0m \u001B[0;34m\u001B[0m\u001B[0m\n",
      "\u001B[0;31mValueError\u001B[0m: not enough values to unpack (expected 3, got 1)"
     ]
    }
   ],
   "source": [
    "class Triangle:\n",
    "    def __init__(self, sides:[float]):\n",
    "        self._sides = sides\n",
    "\n",
    "    @property\n",
    "    def perimeter(self) -> float:\n",
    "        return sum(self._sides)\n",
    "\n",
    "    @property\n",
    "    def area(self) -> float:\n",
    "        s = self.perimeter * 0.5\n",
    "        a, b, c = self._sides\n",
    "        return (s * (s - a) * (s - b) * (s - c)) ** 0.5\n",
    "\n",
    "\n",
    "print(\"Please give the sides of the triangle and separate them by spaces:\")\n",
    "provided_sides = list(map(float, input().split()))\n",
    "triangle = Triangle(provided_sides)\n",
    "print('The area and perimeter of the input triangle are', triangle.area, 'and', triangle.perimeter )"
   ]
  },
  {
   "cell_type": "markdown",
   "metadata": {},
   "source": [
    "### Problem 5\n",
    "Write a short Python function, `remove_punctuation()` that takes a string $s$, representing a sentence,\n",
    "and returns a copy of the string with all punctuations removed. For example, if given the string `\"Let's try, Mike.\"`, this function would return `\"Lets try Mike\"`."
   ]
  },
  {
   "cell_type": "code",
   "execution_count": null,
   "metadata": {
    "pycharm": {
     "name": "#%%\n"
    }
   },
   "outputs": [],
   "source": [
    "#--------C1-25-----------\n",
    "def remove_punctuation(sentence: str) -> str:\n",
    "    return (lambda x: ''.join([i for i in x if i not in r\"\"\"!\"#$%&'()*+,-./:;<=>?@[\\]^_`{|}~\"\"\"]))(sentence)\n",
    "\n",
    "\n",
    "print(remove_punctuation('Hello, my name is Mike!!'))\n",
    "print(remove_punctuation(''))\n",
    "print(remove_punctuation('.s,dmf.,xcmv.x,cvm.ds,fms.df'))\n",
    "\n"
   ]
  }
 ],
 "metadata": {
  "kernelspec": {
   "display_name": "Python 3",
   "language": "python",
   "name": "python3"
  },
  "language_info": {
   "codemirror_mode": {
    "name": "ipython",
    "version": 3
   },
   "file_extension": ".py",
   "mimetype": "text/x-python",
   "name": "python",
   "nbconvert_exporter": "python",
   "pygments_lexer": "ipython3",
   "version": "3.8.5"
  }
 },
 "nbformat": 4,
 "nbformat_minor": 4
}
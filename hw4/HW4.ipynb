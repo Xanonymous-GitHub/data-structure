{
 "cells": [
  {
   "cell_type": "markdown",
   "metadata": {
    "collapsed": true,
    "pycharm": {
     "name": "#%% md\n"
    }
   },
   "source": [
    "## Homework 4 (Data Structures, Spring 2021)\n",
    "### Due: June 7, 2021\n",
    "\n",
    "### Name: 林天佑\n",
    "### Student ID Number: 108820003\n",
    "\n",
    "#### About homework submission\n",
    "1. For problem 1, 2, 3, 4 and 5, please write all of your solutions in this file using ***Markdown***, of which the syntax can be found with [Markdown Cheat Sheet](https://www.markdownguide.org/basic-syntax/#ordered-lists).\n",
    "2. For the programming problem, problem 6, please finish it as required in this file, `HW4.ipynb`.\n",
    "3. Please upload the completed `.ipynb` file with the filename as `HW4\\_studentID.ipynb` to **[i-school(Plus)](https://istudy.ntut.edu.tw/learn/index.php)**.\n",
    "4. **Late work** is not acceptable. Remember, the ***deadline*** is the midnight of **Jun 7, 2021**.\n",
    "5. Honest Policy: We encourage students to discuss their work with the peer. However, each student should write the program, or the problem solutions on her/his own. Those who copy others' work will get 0 on the homework grade.\n",
    "\n",
    "[Markdown Cheat Sheet](https://www.markdownguide.org/basic-syntax/#ordered-lists)"
   ]
  },
  {
   "cell_type": "markdown",
   "metadata": {},
   "source": [
    "#### Problem 1\n",
    "Describe a generalization of the ***Euler tour traversal*** to trees such that each internal node has *three* children. Describe how you could use this traversal to compute the height of each node in such a tree."
   ]
  },
  {
   "cell_type": "code",
   "execution_count": null,
   "metadata": {
    "pycharm": {
     "name": "#%%\n"
    }
   },
   "outputs": [],
   "source": [
    "class Node:\n",
    "    def __init__(self, key: int = None):\n",
    "        self.height = 0  # mark as not set\n",
    "        self.key = key\n",
    "        self.left = None\n",
    "        self.right = None\n",
    "        self.center = None\n",
    "\n",
    "\n",
    "# build tree\n",
    "\n",
    "_1 = Node(1)\n",
    "\n",
    "_2 = _1.left = Node(2)\n",
    "_3 = _1.center = Node(3)\n",
    "_4 = _1.right = Node(4)\n",
    "\n",
    "_5 = _2.left = Node(5)\n",
    "_6 = _2.center = Node(6)\n",
    "_7 = _2.right = Node(7)\n",
    "\n",
    "_8 = _3.left = Node(8)\n",
    "_9 = _3.center = Node(9)\n",
    "_10 = _3.right = Node(10)\n",
    "\n",
    "_11 = _4.left = Node(11)\n",
    "_12 = _4.center = Node(12)\n",
    "_13 = _4.right = Node(13)\n",
    "\n",
    "heights = []\n",
    "\n",
    "\n",
    "def find_node_height(root: Node) -> None:\n",
    "    if root is None:\n",
    "        return\n",
    "\n",
    "    print(root.key, end=\" \")\n",
    "\n",
    "    if root.left is None and root.right is None and root.center is None:\n",
    "        heights.append([root.key, 0])\n",
    "        return\n",
    "\n",
    "    max_height = 0\n",
    "\n",
    "    if root.left is not None:\n",
    "        find_node_height(root.left)\n",
    "        max_height = max(max_height, root.left.height)\n",
    "    print(root.key, end=\" \")\n",
    "\n",
    "    if root.center is not None:\n",
    "        find_node_height(root.center)\n",
    "        max_height = max(max_height, root.center.height)\n",
    "    print(root.key, end=\" \")\n",
    "\n",
    "    if root.right is not None:\n",
    "        find_node_height(root.right)\n",
    "        max_height = max(max_height, root.right.height)\n",
    "    print(root.key, end=\" \")\n",
    "\n",
    "    root.height = max_height + 1\n",
    "\n",
    "    # record the height of each node.\n",
    "    height_exist = root.key in (keys := list(zip(*heights))[0]) if heights else False\n",
    "    if height_exist:\n",
    "        heights[keys.index(root.key)] = [root.key, root.height]\n",
    "    else:\n",
    "        heights.append([root.key, root.height])\n",
    "\n",
    "print('Euler tour traversal: ', end=\"\")\n",
    "find_node_height(_1)\n",
    "print()\n",
    "print('their heights (sorted by node key): ', end=\"\")\n",
    "if heights:\n",
    "    heights = list(zip(*sorted(heights, key=lambda _h: _h[0])))[1]\n",
    "    print(' '.join(list(map(str, heights))))\n"
   ]
  },
  {
   "cell_type": "markdown",
   "metadata": {},
   "source": [
    "#### Problem 2\n",
    "Draw the binary tree representation of the following arithmetic expression:\n",
    "$$\n",
    "(((5+2)*(2-1))/((2+9)+((7-2)-1))*8)\n",
    "$$\n",
    "and compute the value of this expression.\n",
    "\n",
    "**Note**:\n",
    "One can use the following way to paste the picture, where the pictures are located at the same directory. So, please include the picture file(s) in your .rar file.\n",
    "<img src=\"problem2.png\" alt=\"\" style=\"zoom:30%;\" />"
   ]
  },
  {
   "cell_type": "markdown",
   "metadata": {},
   "source": [
    "#### Problem 3\n",
    "A ***$k$-ary*** tree is a tree of which each node has at most $k$ children. What is the maximum number of node is a $k$-ary tree of height $h$? Prove your answer."
   ]
  },
  {
   "cell_type": "markdown",
   "metadata": {},
   "source": [
    "$$ Ans = \\begin{cases} 0 & \\text {if $ h = -1 $} \\\\ k^0 + k^1 + k^2 + ... + k^h & \\text {if $ h >= 0 $} \\end{cases} $$"
   ]
  },
  {
   "cell_type": "markdown",
   "metadata": {},
   "source": [
    "#### Problem 4\n",
    "The **balance factor** of an internal node $v$ of a proper binary tree is the *difference* between the heights of the right and left subtrees of $v$. Show how to specialize the Euler tour traversal to print the balance factors of all the internal nodes of a proper binary tree."
   ]
  },
  {
   "cell_type": "code",
   "execution_count": null,
   "metadata": {
    "pycharm": {
     "name": "#%%\n"
    }
   },
   "outputs": [],
   "source": [
    "\n",
    "class Node:\n",
    "    def __init__(self, key: int = None):\n",
    "        self.height = 0\n",
    "        self.bf = 0# mark as not set\n",
    "        self.key = key\n",
    "        self.left = None\n",
    "        self.right = None\n",
    "\n",
    "\n",
    "# build tree\n",
    "\n",
    "_1 = Node(1)\n",
    "\n",
    "_2 = _1.left = Node(2)\n",
    "_3 = _1.right = Node(3)\n",
    "\n",
    "_4 = _2.left = Node(4)\n",
    "_5 = _2.right = Node(5)\n",
    "\n",
    "_6 = _5.left = Node(6)\n",
    "_7 = _5.right = Node(7)\n",
    "\n",
    "bfs = []\n",
    "\n",
    "\n",
    "def find_node_balance_factor(root: Node) -> None:\n",
    "    if root is None:\n",
    "        return\n",
    "\n",
    "    print(root.key, end=\" \")\n",
    "\n",
    "    if root.left is None and root.right is None:\n",
    "        bfs.append([root.key, 0])\n",
    "        return\n",
    "\n",
    "    max_height = 0\n",
    "    left_height = -1\n",
    "    right_height = -1\n",
    "\n",
    "    if root.left is not None:\n",
    "        find_node_balance_factor(root.left)\n",
    "        max_height = max(max_height, root.left.height)\n",
    "        left_height = root.left.height\n",
    "    print(root.key, end=\" \")\n",
    "\n",
    "    if root.right is not None:\n",
    "        find_node_balance_factor(root.right)\n",
    "        max_height = max(max_height, root.right.height)\n",
    "        right_height = root.right.height\n",
    "    print(root.key, end=\" \")\n",
    "\n",
    "    root.height = max_height + 1\n",
    "\n",
    "    # record the height of each node.\n",
    "    bfs_exist = root.key in (keys := list(zip(*bfs))[0]) if bfs else False\n",
    "    if bfs_exist:\n",
    "        bfs[keys.index(root.key)] = [root.key, right_height - left_height]\n",
    "    else:\n",
    "        bfs.append([root.key, right_height - left_height])\n",
    "\n",
    "print('Euler tour traversal: ', end=\"\")\n",
    "find_node_balance_factor(_1)\n",
    "print()\n",
    "print('their balance factor (sorted by node key): ', end=\"\")\n",
    "if bfs:\n",
    "    bfs = list(zip(*sorted(bfs, key=lambda _h: _h[0])))[1]\n",
    "    print(' '.join(list(map(str, bfs))))\n"
   ]
  },
  {
   "cell_type": "markdown",
   "metadata": {},
   "source": [
    "\n",
    "#### Problem 5\n",
    "Consider an implementation of heap $H$ by means of a linked structure.\n",
    "1. Suppose that we use a reference to the last node in the structure. Please show how to update the reference to the last node  after the operations `insert()` and `removeMin()` $O(\\log n)$ time, where $H.size=n$ is the current number of nodes of $H$. Be sure and handle all possible cases.\n",
    "2. Design an $O(\\log n)$-time algorithm for finding the last node of $H$ with $H.size=n$ nodes in the implementation of a heap by means of a linked structure that does not keep a reference to the last node."
   ]
  },
  {
   "cell_type": "markdown",
   "metadata": {
    "pycharm": {
     "name": "#%% md\n"
    }
   },
   "source": [
    "For problem 1 and 2, the clearest way is to directly design a min-heap.\n",
    "see below code:\n",
    "\n",
    "```python3\n",
    "class Node:\n",
    "    def __init__(self, name, val):\n",
    "        self.name = name\n",
    "        self.val = val\n",
    "\n",
    "    def __str__(self):\n",
    "        return f\"{self.__class__.__name__}({self.name}, {self.val})\"\n",
    "\n",
    "    def __lt__(self, other):\n",
    "        return self.val < other.val\n",
    "\n",
    "\n",
    "class MinHeap:\n",
    "    def __init__(self, array):\n",
    "        self.idx_of_element = {}\n",
    "        self.heap_dict = {}\n",
    "        self.heap = self.build_heap(array)\n",
    "\n",
    "    def __getitem__(self, key):\n",
    "        return self.get_value(key)\n",
    "\n",
    "    @staticmethod\n",
    "    def get_parent_idx(idx):\n",
    "        return (idx - 1) // 2\n",
    "\n",
    "    @staticmethod\n",
    "    def get_left_child_idx(idx):\n",
    "        return idx * 2 + 1\n",
    "\n",
    "    @staticmethod\n",
    "    def get_right_child_idx(idx):\n",
    "        return idx * 2 + 2\n",
    "\n",
    "    def get_value(self, key):\n",
    "        return self.heap_dict[key]\n",
    "\n",
    "    def build_heap(self, array):\n",
    "        last_idx = len(array) - 1\n",
    "        start_from = self.get_parent_idx(last_idx)\n",
    "\n",
    "        for idx, i in enumerate(array):\n",
    "            self.idx_of_element[i] = idx\n",
    "            self.heap_dict[i.name] = i.val\n",
    "\n",
    "        for i in range(start_from, -1, -1):\n",
    "            self.sift_down(i, array)\n",
    "        return array\n",
    "\n",
    "    # this is min-heapify method\n",
    "    def sift_down(self, idx, array):\n",
    "        while True:\n",
    "            l = self.get_left_child_idx(idx)  # noqa: E741\n",
    "            r = self.get_right_child_idx(idx)\n",
    "\n",
    "            smallest = idx\n",
    "            if l < len(array) and array[l] < array[idx]:\n",
    "                smallest = l\n",
    "            if r < len(array) and array[r] < array[smallest]:\n",
    "                smallest = r\n",
    "\n",
    "            if smallest != idx:\n",
    "                array[idx], array[smallest] = array[smallest], array[idx]\n",
    "                (\n",
    "                    self.idx_of_element[array[idx]],\n",
    "                    self.idx_of_element[array[smallest]],\n",
    "                ) = (\n",
    "                    self.idx_of_element[array[smallest]],\n",
    "                    self.idx_of_element[array[idx]],\n",
    "                )\n",
    "                idx = smallest\n",
    "            else:\n",
    "                break\n",
    "\n",
    "    def sift_up(self, idx):\n",
    "        p = self.get_parent_idx(idx)\n",
    "        while p >= 0 and self.heap[p] > self.heap[idx]:\n",
    "            self.heap[p], self.heap[idx] = self.heap[idx], self.heap[p]\n",
    "            self.idx_of_element[self.heap[p]], self.idx_of_element[self.heap[idx]] = (\n",
    "                self.idx_of_element[self.heap[idx]],\n",
    "                self.idx_of_element[self.heap[p]],\n",
    "            )\n",
    "            idx = p\n",
    "            p = self.get_parent_idx(idx)\n",
    "\n",
    "    '''ANS'''\n",
    "    def remove_min(self):\n",
    "        self.heap[0], self.heap[-1] = self.heap[-1], self.heap[0]\n",
    "        self.idx_of_element[self.heap[0]], self.idx_of_element[self.heap[-1]] = (\n",
    "            self.idx_of_element[self.heap[-1]],\n",
    "            self.idx_of_element[self.heap[0]],\n",
    "        )\n",
    "        x = self.heap.pop()\n",
    "        del self.idx_of_element[x]\n",
    "        self.sift_down(0, self.heap)\n",
    "        return x\n",
    "\n",
    "    '''ANS'''\n",
    "    def insert(self, node):\n",
    "        self.heap.append(node)\n",
    "        self.idx_of_element[node] = len(self.heap) - 1\n",
    "        self.heap_dict[node.name] = node.val\n",
    "        self.sift_up(len(self.heap) - 1)\n",
    "\n",
    "    def find(self, root, level, max_level, res):\n",
    "        if root is not None:\n",
    "            level += 1\n",
    "            self.find(root.left, level, max_level, res)\n",
    "\n",
    "            # Update level and recurse\n",
    "            if level > max_level[0]:\n",
    "\n",
    "                res[0] = root.data\n",
    "                max_level[0] = level\n",
    "\n",
    "            self.find(root.right, level, max_level, res)\n",
    "\n",
    "    '''ANS'''\n",
    "    def deepest_node(self, root):\n",
    "        res = [-1]\n",
    "        max_level = [-1]\n",
    "        self.find(root, 0, max_level, res)\n",
    "        return res[0]\n",
    "```\n",
    "\n"
   ]
  },
  {
   "cell_type": "markdown",
   "metadata": {},
   "source": [
    "#### Problem 6 -- Programming (Binary Search Trees)\n",
    "In this problem, you need to implement an ***array-based binary search tree*** $T$ with the following associated operations(methods) using Python. We assume that each node is represented by a key value which is an integer. The operations include:\n",
    "1. `insert(x)` insert a node with key $x$ into $T$.\n",
    "2. `delete(x)` delete a node with key $x$ from $T$.\n",
    "3. `search_key(x)` perform the search process from the root; if the search fails, print `NOT found`; otherwise, print `x is found`.\n",
    "4. `print_property()` print out the properties of tree $T$, including the height and size of $T$.\n",
    "5. `preorder_traversal()` list all the nodes using a preorder traversal.\n",
    "6. `postorder_traversal()` list all the nodes using a postorder traversal.\n",
    "7. `inorder_traversal()` list all the nodes using an inorder traversal.\n",
    "The binary search tree will be built or defined as a class, `BinarySearchTree`, and the operations mentioned above are defined as the methods. Of course, you can have other auxiliary methods. Initially, the binary search tree is empty. Your program allows the user to search, insert, and delete a node with a key. Please run `preorderTraversal()`, `postorderTraversal()`, and `inorderTraversal()` for the same binary search tree to see what you can observe."
   ]
  },
  {
   "cell_type": "code",
   "execution_count": null,
   "metadata": {
    "pycharm": {
     "name": "#%%\n"
    }
   },
   "outputs": [],
   "source": [
    "# implemented by myself. see source code to get the original class.\n",
    "from binary_search_tree import BinarySearchTree\n"
   ]
  },
  {
   "cell_type": "code",
   "execution_count": null,
   "metadata": {
    "pycharm": {
     "name": "#%%\n"
    }
   },
   "outputs": [],
   "source": [
    "# Simple test from the scratch\n",
    "# initializing a BST\n",
    "T = BinarySearchTree()\n",
    "print(T)\n",
    "T.print_property()\n",
    "T.preorder_traversal()\n",
    "T.postorder_traversal()\n",
    "T.inorder_traversal()"
   ]
  },
  {
   "cell_type": "code",
   "execution_count": null,
   "metadata": {
    "pycharm": {
     "name": "#%%\n"
    }
   },
   "outputs": [],
   "source": [
    "# Simple test\n",
    "print(T.search_key(9))\n",
    "T.insert(35)\n",
    "print(T)\n",
    "T.print_property()\n",
    "T.preorder_traversal()\n",
    "T.postorder_traversal()\n",
    "T.inorder_traversal()"
   ]
  },
  {
   "cell_type": "code",
   "execution_count": null,
   "metadata": {
    "pycharm": {
     "name": "#%%\n"
    }
   },
   "outputs": [],
   "source": [
    "# Simple test on insertions\n",
    "T.insert(45)\n",
    "T.insert(40)\n",
    "T.insert(43)\n",
    "T.insert(41)\n",
    "T.insert(42)\n",
    "print(T)\n",
    "T.print_property()\n",
    "T.preorder_traversal()\n",
    "T.postorder_traversal()\n",
    "T.inorder_traversal()"
   ]
  },
  {
   "cell_type": "code",
   "execution_count": null,
   "metadata": {
    "pycharm": {
     "name": "#%%\n"
    }
   },
   "outputs": [],
   "source": [
    "# Simple test on deletions\n",
    "T.delete(30)\n",
    "T.delete(38)\n",
    "T.delete(40)\n",
    "print(T)\n",
    "T.print_property()\n",
    "T.preorder_traversal()\n",
    "T.postorder_traversal()\n",
    "T.inorder_traversal()"
   ]
  },
  {
   "cell_type": "code",
   "execution_count": null,
   "metadata": {
    "pycharm": {
     "name": "#%%\n"
    }
   },
   "outputs": [],
   "source": [
    "# full test for many nodes.\n",
    "import random\n",
    "\n",
    "tree = BinarySearchTree()\n",
    "nodes = random.sample(range(100), random.randint(25, 35))\n",
    "\n",
    "for node in nodes:\n",
    "    tree.insert(node)\n",
    "\n",
    "print(tree)\n",
    "tree.print_property()\n",
    "tree.preorder_traversal()\n",
    "tree.postorder_traversal()\n",
    "tree.inorder_traversal()\n",
    "\n"
   ]
  }
 ],
 "metadata": {
  "kernelspec": {
   "display_name": "Python 3",
   "language": "python",
   "name": "python3"
  },
  "language_info": {
   "codemirror_mode": {
    "name": "ipython",
    "version": 3
   },
   "file_extension": ".py",
   "mimetype": "text/x-python",
   "name": "python",
   "nbconvert_exporter": "python",
   "pygments_lexer": "ipython3",
   "version": "3.9.5"
  }
 },
 "nbformat": 4,
 "nbformat_minor": 1
}
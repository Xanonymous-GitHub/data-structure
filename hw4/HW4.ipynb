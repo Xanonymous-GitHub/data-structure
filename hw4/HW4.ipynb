{
 "cells": [
  {
   "cell_type": "markdown",
   "metadata": {},
   "source": [
    "## Homework 4 (Data Structures, Spring 2021)\n",
    "### Due: June 7, 2021\n",
    "\n",
    "### Name: 林天佑\n",
    "### Student ID Number: 108820003\n",
    "\n",
    "#### About homework submission\n",
    "1. For problem 1, 2, 3, 4 and 5, please write all of your solutions in this file using ***Markdown***, of which the syntax can be found with [Markdown Cheat Sheet](https://www.markdownguide.org/basic-syntax/#ordered-lists).\n",
    "2. For the programming problem, problem 6, please finish it as required in this file, `HW4.ipynb`.\n",
    "3. Please upload the completed `.ipynb` file with the filename as `HW4\\_studentID.ipynb` to **[i-school(Plus)](https://istudy.ntut.edu.tw/learn/index.php)**.\n",
    "4. **Late work** is not acceptable. Remember, the ***deadline*** is the midnight of **Jun 7, 2021**.\n",
    "5. Honest Policy: We encourage students to discuss their work with the peer. However, each student should write the program, or the problem solutions on her/his own. Those who copy others' work will get 0 on the homework grade.\n",
    "\n",
    "[Markdown Cheat Sheet](https://www.markdownguide.org/basic-syntax/#ordered-lists)"
   ]
  },
  {
   "cell_type": "markdown",
   "metadata": {},
   "source": [
    "#### Problem 1 \n",
    "Describe a generalization of the ***Euler tour traversal*** to trees such that each internal node has *three* children. Describe how you could use this traversal to compute the height of each node in such a tree."
   ]
  },
  {
   "cell_type": "code",
   "execution_count": null,
   "metadata": {
    "pycharm": {
     "name": "#%%\n"
    }
   },
   "outputs": [],
   "source": [
    "class Node:\n",
    "    def __init__(self, key: int = None):\n",
    "        self.height = 0  # mark as not set\n",
    "        self.key = key\n",
    "        self.left = None\n",
    "        self.right = None\n",
    "        self.center = None\n",
    "\n",
    "\n",
    "# build tree\n",
    "\n",
    "_1 = Node(1)\n",
    "\n",
    "_2 = _1.left = Node(2)\n",
    "_3 = _1.center = Node(3)\n",
    "_4 = _1.right = Node(4)\n",
    "\n",
    "_5 = _2.left = Node(5)\n",
    "_6 = _2.center = Node(6)\n",
    "_7 = _2.right = Node(7)\n",
    "\n",
    "_8 = _3.left = Node(8)\n",
    "_9 = _3.center = Node(9)\n",
    "_10 = _3.right = Node(10)\n",
    "\n",
    "_11 = _4.left = Node(11)\n",
    "_12 = _4.center = Node(12)\n",
    "_13 = _4.right = Node(13)\n",
    "\n",
    "heights = []\n",
    "\n",
    "\n",
    "def find_node_height(root: Node) -> None:\n",
    "    if root is None:\n",
    "        return\n",
    "\n",
    "    print(root.key, end=\" \")\n",
    "\n",
    "    if root.left is None and root.right is None and root.center is None:\n",
    "        heights.append([root.key, 0])\n",
    "        return\n",
    "\n",
    "    max_height = 0\n",
    "\n",
    "    if root.left is not None:\n",
    "        find_node_height(root.left)\n",
    "        max_height = max(max_height, root.left.height)\n",
    "    print(root.key, end=\" \")\n",
    "\n",
    "    if root.center is not None:\n",
    "        find_node_height(root.center)\n",
    "        max_height = max(max_height, root.center.height)\n",
    "    print(root.key, end=\" \")\n",
    "\n",
    "    if root.right is not None:\n",
    "        find_node_height(root.right)\n",
    "        max_height = max(max_height, root.right.height)\n",
    "    print(root.key, end=\" \")\n",
    "\n",
    "    root.height = max_height + 1\n",
    "\n",
    "    # record the height of each node.\n",
    "    height_exist = root.key in (keys := list(zip(*heights))[0]) if heights else False\n",
    "    if height_exist:\n",
    "        heights[keys.index(root.key)] = [root.key, root.height]\n",
    "    else:\n",
    "        heights.append([root.key, root.height])\n",
    "\n",
    "\n",
    "find_node_height(_1)\n",
    "print()\n",
    "print(heights)\n"
   ]
  },
  {
   "cell_type": "markdown",
   "metadata": {},
   "source": [
    "#### Problem 2\n",
    "Draw the binary tree representation of the following arithmetic expression:\n",
    "$$\n",
    "(((5+2)*(2-1))/((2+9)+((7-2)-1))*8)\n",
    "$$\n",
    "and compute the value of this expression.\n",
    "\n",
    "**Note**:\n",
    "One can use the following way to paste the picture, where the pictures are located at the same directory. So, please include the picture file(s) in your .rar file.\n",
    "<img src=\"problem2.png\" alt=\"\" style=\"zoom:30%;\" />"
   ]
  },
  {
   "cell_type": "markdown",
   "metadata": {},
   "source": [
    "#### Problem 3\n",
    "A ***$k$-ary*** tree is a tree of which each node has at most $k$ children. What is the maximum number of node is a $k$-ary tree of height $h$? Prove your answer."
   ]
  },
  {
   "cell_type": "markdown",
   "metadata": {},
   "source": [
    "$$ Ans = \\begin{cases} 0 & \\text {if $ h = -1 $} \\\\ k^0 + k^1 + k^2 + ... + k^h & \\text {if $ h >= 0 $} \\end{cases} $$"
   ]
  },
  {
   "cell_type": "markdown",
   "metadata": {},
   "source": [
    "#### Problem 4\n",
    "The **balance factor** of an internal node $v$ of a proper binary tree is the *difference* between the heights of the right and left subtrees of $v$. Show how to specialize the Euler tour traversal to print the balance factors of all the internal nodes of a proper binary tree.\n"
   ]
  },
  {
   "cell_type": "markdown",
   "metadata": {
    "pycharm": {
     "name": "#%% md\n"
    }
   },
   "source": []
  }
 ],
 "metadata": {
  "kernelspec": {
   "display_name": "Python 3",
   "language": "python",
   "name": "python3"
  },
  "language_info": {
   "codemirror_mode": {
    "name": "ipython",
    "version": 3
   },
   "file_extension": ".py",
   "mimetype": "text/x-python",
   "name": "python",
   "nbconvert_exporter": "python",
   "pygments_lexer": "ipython3",
   "version": "3.9.5"
  }
 },
 "nbformat": 4,
 "nbformat_minor": 4
}
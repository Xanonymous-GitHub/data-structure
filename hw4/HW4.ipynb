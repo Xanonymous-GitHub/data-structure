{
 "cells": [
  {
   "cell_type": "markdown",
   "metadata": {},
   "source": [
    "## Homework 4 (Data Structures, Spring 2021)\n",
    "### Due: June 7, 2021\n",
    "\n",
    "### Name: 林天佑\n",
    "### Student ID Number: 108820003\n",
    "\n",
    "#### About homework submission\n",
    "1. For problem 1, 2, 3, 4 and 5, please write all of your solutions in this file using ***Markdown***, of which the syntax can be found with [Markdown Cheat Sheet](https://www.markdownguide.org/basic-syntax/#ordered-lists).\n",
    "2. For the programming problem, problem 6, please finish it as required in this file, `HW4.ipynb`.\n",
    "3. Please upload the completed `.ipynb` file with the filename as `HW4\\_studentID.ipynb` to **[i-school(Plus)](https://istudy.ntut.edu.tw/learn/index.php)**.\n",
    "4. **Late work** is not acceptable. Remember, the ***deadline*** is the midnight of **Jun 7, 2021**.\n",
    "5. Honest Policy: We encourage students to discuss their work with the peer. However, each student should write the program, or the problem solutions on her/his own. Those who copy others' work will get 0 on the homework grade.\n",
    "\n",
    "[Markdown Cheat Sheet](https://www.markdownguide.org/basic-syntax/#ordered-lists)"
   ]
  },
  {
   "cell_type": "markdown",
   "metadata": {},
   "source": [
    "#### Problem 1 \n",
    "Describe a generalization of the ***Euler tour traversal*** to trees such that each internal node has *three* children. Describe how you could use this traversal to compute the height of each node in such a tree."
   ]
  },
  {
   "cell_type": "code",
   "execution_count": 2,
   "metadata": {
    "pycharm": {
     "name": "#%%\n"
    }
   },
   "outputs": [
    {
     "name": "stdout",
     "output_type": "stream",
     "text": [
      "1 2 5 6 7 2 3 8 9 10 3 4 11 12 13 4 1 \n"
     ]
    }
   ],
   "source": [
    "class Node:\n",
    "    def __init__(self, key: int = None):\n",
    "        self.level = -1  # mark as not set\n",
    "        self.key = key\n",
    "        self.left = None\n",
    "        self.right = None\n",
    "        self.center = None\n",
    "\n",
    "\n",
    "# build tree\n",
    "\n",
    "_1 = Node(1)\n",
    "\n",
    "_2 = _1.left = Node(2)\n",
    "_3 = _1.center = Node(3)\n",
    "_4 = _1.right = Node(4)\n",
    "\n",
    "_5 = _2.left = Node(5)\n",
    "_6 = _2.center = Node(6)\n",
    "_7 = _2.right = Node(7)\n",
    "\n",
    "_8 = _3.left = Node(8)\n",
    "_9 = _3.center = Node(9)\n",
    "_10 = _3.right = Node(10)\n",
    "\n",
    "_11 = _4.left = Node(11)\n",
    "_12 = _4.center = Node(12)\n",
    "_13 = _4.right = Node(13)\n",
    "\n",
    "\n",
    "def find_node_level(root: Node, level: int) -> None:\n",
    "    root.level = level\n",
    "    print(root.key, end=\" \")\n",
    "\n",
    "    if root.left is None and root.right is None and root.center is None:\n",
    "        return\n",
    "\n",
    "    if root.left is not None:\n",
    "        find_node_level(root.left, level + 1)\n",
    "    print(root.key, end=\" \")\n",
    "\n",
    "    if root.center is not None:\n",
    "        find_node_level(root.center, level + 1)\n",
    "    print(root.key, end=\" \")\n",
    "\n",
    "    if root.right is not None:\n",
    "        find_node_level(root.right, level + 1)\n",
    "    print(root.key, end=\" \")\n",
    "\n",
    "\n",
    "find_node_level(_1, 0)\n",
    "print()"
   ]
  },
  {
   "cell_type": "markdown",
   "metadata": {},
   "source": [
    "#### Problem 2\n",
    "Draw the binary tree representation of the following arithmetic expression:\n",
    "$$\n",
    "(((5+2)*(2-1))/((2+9)+((7-2)-1))*8)\n",
    "$$\n",
    "and compute the value of this expression.\n",
    "\n",
    "**Note**:\n",
    "One can use the following way to paste the picture, where the pictures are located at the same directory. So, please include the picture file(s) in your .rar file.\n",
    "<img src=\"test.png\" alt=\"image-20210524110252769\" style=\"zoom:30%;\" />"
   ]
  },
  {
   "cell_type": "markdown",
   "metadata": {},
   "source": []
  },
  {
   "cell_type": "markdown",
   "metadata": {},
   "source": [
    "#### Problem 3\n",
    "A ***$k$-ary*** tree is a tree of which each node has at most $k$ children. What is the maximum number of node is a $k$-ary tree of height $h$? Prove your answer."
   ]
  },
  {
   "cell_type": "markdown",
   "metadata": {},
   "source": []
  },
  {
   "cell_type": "markdown",
   "metadata": {},
   "source": [
    "#### Problem 4\n",
    "The **balance factor** of an internal node $v$ of a proper binary tree is the *difference* between the heights of the right and left subtrees of $v$. Show how to specialize the Euler tour traversal to print the balance factors of all the internal nodes of a proper binary tree."
   ]
  },
  {
   "cell_type": "markdown",
   "metadata": {},
   "source": []
  },
  {
   "cell_type": "markdown",
   "metadata": {},
   "source": [
    "#### Problem 5\n",
    "Consider an implementation of heap $H$ by means of a linked structure.\n",
    "1. Suppose that we use a reference to the last node in the structure. Please show how to update the reference to the last node  after the operations `insert()` and `removeMin()` $O(\\log n)$ time, where $H.size=n$ is the current number of nodes of $H$. Be sure and handle all possible cases.\n",
    "2. Design an $O(\\log n)$-time algorithm for finding the last node of $H$ with $H.size=n$ nodes in the implementation of a heap by means of a linked structure that does not keep a reference to the last node."
   ]
  },
  {
   "cell_type": "markdown",
   "metadata": {},
   "source": []
  },
  {
   "cell_type": "markdown",
   "metadata": {},
   "source": [
    "#### Problem 6 -- Programming (Binary Search Trees)\n",
    "In this problem, you need to implement an ***array-based binary search tree*** $T$ with the following associated operations(methods) using Python. We assume that each node is represented by a key value which is an integer. The operations include:\n",
    "1. `insert(x)` insert a node with key $x$ into $T$.\n",
    "2. `delete(x)` delete a node with key $x$ from $T$.\n",
    "3. `search_key(x)` perform the search process from the root; if the search fails, print `NOT found`; otherwise, print `x is found`.\n",
    "4. `print_property()` print out the properties of tree $T$, including the height and size of $T$.\n",
    "5. `preorder_traversal()` list all the nodes using a preorder traversal.\n",
    "6. `postorder_traversal()` list all the nodes using a postorder traversal.\n",
    "7. `inorder_traversal()` list all the nodes using an inorder traversal.\n",
    "The binary search tree will be built or defined as a class, `BinarySearchTree`, and the operations mentioned above are defined as the methods. Of course, you can have other auxiliary methods. Initially, the binary search tree is empty. Your program allows the user to search, insert, and delete a node with a key. Please run `preorderTraversal()`, `postorderTraversal()`, and `inorderTraversal()` for the same binary search tree to see what you can observe."
   ]
  },
  {
   "cell_type": "code",
   "execution_count": 1,
   "metadata": {},
   "outputs": [],
   "source": [
    "# implemented by myself. see source code to get the original class.\n",
    "from binary_search_tree import BinarySearchTree\n"
   ]
  },
  {
   "cell_type": "code",
   "execution_count": 2,
   "metadata": {},
   "outputs": [
    {
     "name": "stdout",
     "output_type": "stream",
     "text": [
      "\n",
      "preorder_traversal\n",
      "\n",
      "postorder_traversal\n",
      "\n",
      "inorder_traversal\n",
      "\n"
     ]
    }
   ],
   "source": [
    "# Simple test from the scratch\n",
    "# initializing a BST\n",
    "T = BinarySearchTree()\n",
    "print(T)\n",
    "T.print_property()\n",
    "T.preorder_traversal()\n",
    "T.postorder_traversal()\n",
    "T.inorder_traversal()"
   ]
  },
  {
   "cell_type": "code",
   "execution_count": 3,
   "metadata": {},
   "outputs": [
    {
     "name": "stdout",
     "output_type": "stream",
     "text": [
      "Not found.\n",
      "\n",
      "35\n",
      "\n",
      "Node 35, HEIGHT=0, BF=0\n",
      "preorder_traversal\n",
      "35 \n",
      "postorder_traversal\n",
      "35 \n",
      "inorder_traversal\n",
      "35 \n"
     ]
    }
   ],
   "source": [
    "# Simple test\n",
    "print(T.search_key(9))\n",
    "T.insert(35)\n",
    "print(T)\n",
    "T.print_property()\n",
    "T.preorder_traversal()\n",
    "T.postorder_traversal()\n",
    "T.inorder_traversal()"
   ]
  },
  {
   "cell_type": "code",
   "execution_count": 4,
   "metadata": {},
   "outputs": [
    {
     "name": "stdout",
     "output_type": "stream",
     "text": [
      "    41___   \n",
      "   /     \\  \n",
      "  40    43_ \n",
      " /     /   \\\n",
      "35    42  45\n",
      "\n",
      "Node 35, HEIGHT=0, BF=0\n",
      "Node 40, HEIGHT=1, BF=-1\n",
      "Node 41, HEIGHT=2, BF=0\n",
      "Node 42, HEIGHT=0, BF=0\n",
      "Node 43, HEIGHT=1, BF=0\n",
      "Node 45, HEIGHT=0, BF=0\n",
      "preorder_traversal\n",
      "41 40 35 43 42 45 \n",
      "postorder_traversal\n",
      "35 40 42 45 43 41 \n",
      "inorder_traversal\n",
      "35 40 41 42 43 45 \n"
     ]
    }
   ],
   "source": [
    "# Simple test on insertions\n",
    "T.insert(45)\n",
    "T.insert(40)\n",
    "T.insert(43)\n",
    "T.insert(41)\n",
    "T.insert(42)\n",
    "print(T)\n",
    "T.print_property()\n",
    "T.preorder_traversal()\n",
    "T.postorder_traversal()\n",
    "T.inorder_traversal()"
   ]
  },
  {
   "cell_type": "code",
   "execution_count": 5,
   "metadata": {},
   "outputs": [
    {
     "name": "stdout",
     "output_type": "stream",
     "text": [
      "  41___   \n",
      " /     \\  \n",
      "35    43_ \n",
      "     /   \\\n",
      "    42  45\n",
      "\n",
      "Node 35, HEIGHT=0, BF=0\n",
      "Node 41, HEIGHT=2, BF=1\n",
      "Node 42, HEIGHT=0, BF=0\n",
      "Node 43, HEIGHT=1, BF=0\n",
      "Node 45, HEIGHT=0, BF=0\n",
      "preorder_traversal\n",
      "41 35 43 42 45 \n",
      "postorder_traversal\n",
      "35 42 45 43 41 \n",
      "inorder_traversal\n",
      "35 41 42 43 45 \n"
     ]
    }
   ],
   "source": [
    "# Simple test on deletions\n",
    "T.delete(30)\n",
    "T.delete(38)\n",
    "T.delete(40)\n",
    "print(T)\n",
    "T.print_property()\n",
    "T.preorder_traversal()\n",
    "T.postorder_traversal()\n",
    "T.inorder_traversal()"
   ]
  },
  {
   "cell_type": "code",
   "execution_count": 6,
   "metadata": {
    "pycharm": {
     "name": "#%%\n"
    }
   },
   "outputs": [
    {
     "name": "stdout",
     "output_type": "stream",
     "text": [
      "           __________________50_____________________             \n",
      "          /                                         \\            \n",
      "     ____28_____                           ________84_____       \n",
      "    /           \\                         /               \\      \n",
      "   16_       __35_______           ______73_____         87___   \n",
      "  /   \\     /           \\         /             \\       /     \\  \n",
      " 10  18_   30_       __46___     56___       __80_     86    96_ \n",
      "/       \\     \\     /       \\   /     \\     /     \\   /     /   \\\n",
      "1      20    33    39_     49  51    65_   78_   83  85    95  98\n",
      "                  /   \\   /         /   \\     \\                  \n",
      "                 38  44  48        63  69    79                  \n",
      "\n",
      "Node 1, HEIGHT=0, BF=0\n",
      "Node 10, HEIGHT=1, BF=-1\n",
      "Node 16, HEIGHT=2, BF=0\n",
      "Node 18, HEIGHT=1, BF=1\n",
      "Node 20, HEIGHT=0, BF=0\n",
      "Node 28, HEIGHT=4, BF=1\n",
      "Node 30, HEIGHT=1, BF=1\n",
      "Node 33, HEIGHT=0, BF=0\n",
      "Node 35, HEIGHT=3, BF=1\n",
      "Node 38, HEIGHT=0, BF=0\n",
      "Node 39, HEIGHT=1, BF=0\n",
      "Node 44, HEIGHT=0, BF=0\n",
      "Node 46, HEIGHT=2, BF=0\n",
      "Node 48, HEIGHT=0, BF=0\n",
      "Node 49, HEIGHT=1, BF=-1\n",
      "Node 50, HEIGHT=5, BF=0\n",
      "Node 51, HEIGHT=0, BF=0\n",
      "Node 56, HEIGHT=2, BF=1\n",
      "Node 63, HEIGHT=0, BF=0\n",
      "Node 65, HEIGHT=1, BF=0\n",
      "Node 69, HEIGHT=0, BF=0\n",
      "Node 73, HEIGHT=3, BF=0\n",
      "Node 78, HEIGHT=1, BF=1\n",
      "Node 79, HEIGHT=0, BF=0\n",
      "Node 80, HEIGHT=2, BF=-1\n",
      "Node 83, HEIGHT=0, BF=0\n",
      "Node 84, HEIGHT=4, BF=-1\n",
      "Node 85, HEIGHT=0, BF=0\n",
      "Node 86, HEIGHT=1, BF=-1\n",
      "Node 87, HEIGHT=2, BF=0\n",
      "Node 95, HEIGHT=0, BF=0\n",
      "Node 96, HEIGHT=1, BF=0\n",
      "Node 98, HEIGHT=0, BF=0\n",
      "preorder_traversal\n",
      "50 28 16 10 1 18 20 35 30 33 46 39 38 44 49 48 84 73 56 51 65 63 69 80 78 79 83 87 86 85 96 95 98 \n",
      "postorder_traversal\n",
      "1 10 20 18 16 33 30 38 44 39 48 49 46 35 28 51 63 69 65 56 79 78 83 80 73 85 86 95 98 96 87 84 50 \n",
      "inorder_traversal\n",
      "1 10 16 18 20 28 30 33 35 38 39 44 46 48 49 50 51 56 63 65 69 73 78 79 80 83 84 85 86 87 95 96 98 \n"
     ]
    }
   ],
   "source": [
    "# full test for many nodes.\n",
    "import random\n",
    "\n",
    "tree = BinarySearchTree()\n",
    "nodes = random.sample(range(100), random.randint(25, 35))\n",
    "\n",
    "for node in nodes:\n",
    "    tree.insert(node)\n",
    "\n",
    "print(tree)\n",
    "tree.print_property()\n",
    "tree.preorder_traversal()\n",
    "tree.postorder_traversal()\n",
    "tree.inorder_traversal()"
   ]
  }
 ],
 "metadata": {
  "kernelspec": {
   "display_name": "Python 3",
   "language": "python",
   "name": "python3"
  },
  "language_info": {
   "codemirror_mode": {
    "name": "ipython",
    "version": 3
   },
   "file_extension": ".py",
   "mimetype": "text/x-python",
   "name": "python",
   "nbconvert_exporter": "python",
   "pygments_lexer": "ipython3",
   "version": "3.9.5"
  }
 },
 "nbformat": 4,
 "nbformat_minor": 4
}
{
 "cells": [
  {
   "cell_type": "markdown",
   "metadata": {
    "collapsed": true,
    "pycharm": {
     "name": "#%% md\n"
    }
   },
   "source": [
    "## Homework 4 (Data Structures, Spring 2021)\n",
    "### Due: June 7, 2021\n",
    "\n",
    "### Name: 林天佑\n",
    "### Student ID Number: 108820003\n",
    "\n",
    "#### About homework submission\n",
    "1. For problem 1, 2, 3, 4 and 5, please write all of your solutions in this file using ***Markdown***, of which the syntax can be found with [Markdown Cheat Sheet](https://www.markdownguide.org/basic-syntax/#ordered-lists).\n",
    "2. For the programming problem, problem 6, please finish it as required in this file, `HW4.ipynb`.\n",
    "3. Please upload the completed `.ipynb` file with the filename as `HW4\\_studentID.ipynb` to **[i-school(Plus)](https://istudy.ntut.edu.tw/learn/index.php)**.\n",
    "4. **Late work** is not acceptable. Remember, the ***deadline*** is the midnight of **Jun 7, 2021**.\n",
    "5. Honest Policy: We encourage students to discuss their work with the peer. However, each student should write the program, or the problem solutions on her/his own. Those who copy others' work will get 0 on the homework grade.\n",
    "\n",
    "[Markdown Cheat Sheet](https://www.markdownguide.org/basic-syntax/#ordered-lists)"
   ]
  },
  {
   "cell_type": "markdown",
   "source": [
    "#### Problem 1\n",
    "Describe a generalization of the ***Euler tour traversal*** to trees such that each internal node has *three* children. Describe how you could use this traversal to compute the height of each node in such a tree."
   ],
   "metadata": {
    "collapsed": false
   }
  },
  {
   "cell_type": "code",
   "execution_count": null,
   "outputs": [],
   "source": [
    "class Node:\n",
    "    def __init__(self, key: int = None):\n",
    "        self.height = 0  # mark as not set\n",
    "        self.key = key\n",
    "        self.left = None\n",
    "        self.right = None\n",
    "        self.center = None\n",
    "\n",
    "\n",
    "# build tree\n",
    "\n",
    "_1 = Node(1)\n",
    "\n",
    "_2 = _1.left = Node(2)\n",
    "_3 = _1.center = Node(3)\n",
    "_4 = _1.right = Node(4)\n",
    "\n",
    "_5 = _2.left = Node(5)\n",
    "_6 = _2.center = Node(6)\n",
    "_7 = _2.right = Node(7)\n",
    "\n",
    "_8 = _3.left = Node(8)\n",
    "_9 = _3.center = Node(9)\n",
    "_10 = _3.right = Node(10)\n",
    "\n",
    "_11 = _4.left = Node(11)\n",
    "_12 = _4.center = Node(12)\n",
    "_13 = _4.right = Node(13)\n",
    "\n",
    "heights = []\n",
    "\n",
    "\n",
    "def find_node_height(root: Node) -> None:\n",
    "    if root is None:\n",
    "        return\n",
    "\n",
    "    print(root.key, end=\" \")\n",
    "\n",
    "    if root.left is None and root.right is None and root.center is None:\n",
    "        heights.append([root.key, 0])\n",
    "        return\n",
    "\n",
    "    max_height = 0\n",
    "\n",
    "    if root.left is not None:\n",
    "        find_node_height(root.left)\n",
    "        max_height = max(max_height, root.left.height)\n",
    "    print(root.key, end=\" \")\n",
    "\n",
    "    if root.center is not None:\n",
    "        find_node_height(root.center)\n",
    "        max_height = max(max_height, root.center.height)\n",
    "    print(root.key, end=\" \")\n",
    "\n",
    "    if root.right is not None:\n",
    "        find_node_height(root.right)\n",
    "        max_height = max(max_height, root.right.height)\n",
    "    print(root.key, end=\" \")\n",
    "\n",
    "    root.height = max_height + 1\n",
    "\n",
    "    # record the height of each node.\n",
    "    height_exist = root.key in (keys := list(zip(*heights))[0]) if heights else False\n",
    "    if height_exist:\n",
    "        heights[keys.index(root.key)] = [root.key, root.height]\n",
    "    else:\n",
    "        heights.append([root.key, root.height])\n",
    "\n",
    "\n",
    "find_node_height(_1)\n",
    "print()\n",
    "print(heights)\n"
   ],
   "metadata": {
    "collapsed": false,
    "pycharm": {
     "name": "#%%\n"
    }
   }
  },
  {
   "cell_type": "markdown",
   "source": [
    "#### Problem 2\n",
    "Draw the binary tree representation of the following arithmetic expression:\n",
    "$$\n",
    "(((5+2)*(2-1))/((2+9)+((7-2)-1))*8)\n",
    "$$\n",
    "and compute the value of this expression.\n",
    "\n",
    "**Note**:\n",
    "One can use the following way to paste the picture, where the pictures are located at the same directory. So, please include the picture file(s) in your .rar file.\n",
    "<img src=\"problem2.png\" alt=\"\" style=\"zoom:30%;\" />"
   ],
   "metadata": {
    "collapsed": false
   }
  },
  {
   "cell_type": "markdown",
   "source": [
    "#### Problem 3\n",
    "A ***$k$-ary*** tree is a tree of which each node has at most $k$ children. What is the maximum number of node is a $k$-ary tree of height $h$? Prove your answer."
   ],
   "metadata": {
    "collapsed": false
   }
  },
  {
   "cell_type": "markdown",
   "source": [
    "$$ Ans = \\begin{cases} 0 & \\text {if $ h = -1 $} \\\\ k^0 + k^1 + k^2 + ... + k^h & \\text {if $ h >= 0 $} \\end{cases} $$"
   ],
   "metadata": {
    "collapsed": false
   }
  },
  {
   "cell_type": "markdown",
   "source": [
    "#### Problem 4\n",
    "The **balance factor** of an internal node $v$ of a proper binary tree is the *difference* between the heights of the right and left subtrees of $v$. Show how to specialize the Euler tour traversal to print the balance factors of all the internal nodes of a proper binary tree."
   ],
   "metadata": {
    "collapsed": false
   }
  },
  {
   "cell_type": "markdown",
   "source": [],
   "metadata": {
    "collapsed": false
   }
  },
  {
   "cell_type": "markdown",
   "source": [
    "#### Problem 5\n",
    "Consider an implementation of heap $H$ by means of a linked structure.\n",
    "1. Suppose that we use a reference to the last node in the structure. Please show how to update the reference to the last node  after the operations `insert()` and `removeMin()` $O(\\log n)$ time, where $H.size=n$ is the current number of nodes of $H$. Be sure and handle all possible cases.\n",
    "2. Design an $O(\\log n)$-time algorithm for finding the last node of $H$ with $H.size=n$ nodes in the implementation of a heap by means of a linked structure that does not keep a reference to the last node."
   ],
   "metadata": {
    "collapsed": false
   }
  },
  {
   "cell_type": "markdown",
   "source": [],
   "metadata": {
    "collapsed": false
   }
  },
  {
   "cell_type": "markdown",
   "source": [
    "#### Problem 6 -- Programming (Binary Search Trees)\n",
    "In this problem, you need to implement an ***array-based binary search tree*** $T$ with the following associated operations(methods) using Python. We assume that each node is represented by a key value which is an integer. The operations include:\n",
    "1. `insert(x)` insert a node with key $x$ into $T$.\n",
    "2. `delete(x)` delete a node with key $x$ from $T$.\n",
    "3. `search_key(x)` perform the search process from the root; if the search fails, print `NOT found`; otherwise, print `x is found`.\n",
    "4. `print_property()` print out the properties of tree $T$, including the height and size of $T$.\n",
    "5. `preorder_traversal()` list all the nodes using a preorder traversal.\n",
    "6. `postorder_traversal()` list all the nodes using a postorder traversal.\n",
    "7. `inorder_traversal()` list all the nodes using an inorder traversal.\n",
    "The binary search tree will be built or defined as a class, `BinarySearchTree`, and the operations mentioned above are defined as the methods. Of course, you can have other auxiliary methods. Initially, the binary search tree is empty. Your program allows the user to search, insert, and delete a node with a key. Please run `preorderTraversal()`, `postorderTraversal()`, and `inorderTraversal()` for the same binary search tree to see what you can observe."
   ],
   "metadata": {
    "collapsed": false
   }
  },
  {
   "cell_type": "code",
   "execution_count": null,
   "outputs": [],
   "source": [
    "# implemented by myself. see source code to get the original class.\n",
    "from binary_search_tree import BinarySearchTree\n"
   ],
   "metadata": {
    "collapsed": false,
    "pycharm": {
     "name": "#%%\n"
    }
   }
  },
  {
   "cell_type": "code",
   "execution_count": null,
   "outputs": [],
   "source": [
    "# Simple test from the scratch\n",
    "# initializing a BST\n",
    "T = BinarySearchTree()\n",
    "print(T)\n",
    "T.print_property()\n",
    "T.preorder_traversal()\n",
    "T.postorder_traversal()\n",
    "T.inorder_traversal()"
   ],
   "metadata": {
    "collapsed": false,
    "pycharm": {
     "name": "#%%\n"
    }
   }
  },
  {
   "cell_type": "code",
   "execution_count": null,
   "outputs": [],
   "source": [
    "# Simple test\n",
    "print(T.search_key(9))\n",
    "T.insert(35)\n",
    "print(T)\n",
    "T.print_property()\n",
    "T.preorder_traversal()\n",
    "T.postorder_traversal()\n",
    "T.inorder_traversal()"
   ],
   "metadata": {
    "collapsed": false,
    "pycharm": {
     "name": "#%%\n"
    }
   }
  },
  {
   "cell_type": "code",
   "execution_count": null,
   "outputs": [],
   "source": [
    "# Simple test on insertions\n",
    "T.insert(45)\n",
    "T.insert(40)\n",
    "T.insert(43)\n",
    "T.insert(41)\n",
    "T.insert(42)\n",
    "print(T)\n",
    "T.print_property()\n",
    "T.preorder_traversal()\n",
    "T.postorder_traversal()\n",
    "T.inorder_traversal()"
   ],
   "metadata": {
    "collapsed": false,
    "pycharm": {
     "name": "#%%\n"
    }
   }
  },
  {
   "cell_type": "code",
   "execution_count": null,
   "outputs": [],
   "source": [
    "# Simple test on deletions\n",
    "T.delete(30)\n",
    "T.delete(38)\n",
    "T.delete(40)\n",
    "print(T)\n",
    "T.print_property()\n",
    "T.preorder_traversal()\n",
    "T.postorder_traversal()\n",
    "T.inorder_traversal()"
   ],
   "metadata": {
    "collapsed": false,
    "pycharm": {
     "name": "#%%\n"
    }
   }
  },
  {
   "cell_type": "code",
   "execution_count": null,
   "outputs": [],
   "source": [
    "# full test for many nodes.\n",
    "import random\n",
    "\n",
    "tree = BinarySearchTree()\n",
    "nodes = random.sample(range(100), random.randint(25, 35))\n",
    "\n",
    "for node in nodes:\n",
    "    tree.insert(node)\n",
    "\n",
    "print(tree)\n",
    "tree.print_property()\n",
    "tree.preorder_traversal()\n",
    "tree.postorder_traversal()\n",
    "tree.inorder_traversal()\n",
    "\n"
   ],
   "metadata": {
    "collapsed": false,
    "pycharm": {
     "name": "#%%\n"
    }
   }
  }
 ],
 "metadata": {
  "kernelspec": {
   "display_name": "Python 3",
   "language": "python",
   "name": "python3"
  },
  "language_info": {
   "codemirror_mode": {
    "name": "ipython",
    "version": 2
   },
   "file_extension": ".py",
   "mimetype": "text/x-python",
   "name": "python",
   "nbconvert_exporter": "python",
   "pygments_lexer": "ipython2",
   "version": "2.7.6"
  }
 },
 "nbformat": 4,
 "nbformat_minor": 0
}